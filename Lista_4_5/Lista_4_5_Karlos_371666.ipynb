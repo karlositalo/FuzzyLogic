{
 "cells": [
  {
   "cell_type": "code",
   "execution_count": 1,
   "metadata": {
    "collapsed": true
   },
   "outputs": [],
   "source": [
    "import numpy as np\n",
    "import numpy.linalg as AL\n",
    "import math\n",
    "import scipy\n",
    "from numpy import *\n",
    "from scipy import *\n",
    "from IPython.display import Latex\n",
    "import skfuzzy as fuzz\n",
    "import matplotlib\n",
    "import matplotlib.pyplot as plt\n",
    "import matplotlib.lines as mlines\n",
    "from matplotlib.font_manager import FontProperties\n",
    "%matplotlib inline \n",
    "from __future__ import division\n",
    "import numpy as np\n",
    "import math\n",
    "import scipy\n",
    "from numpy import *\n",
    "from IPython.display import Latex\n",
    "import skfuzzy as fuzz\n",
    "import matplotlib\n",
    "import matplotlib.pyplot as plt\n",
    "import matplotlib.lines as mlines\n",
    "from matplotlib.font_manager import FontProperties\n",
    "%matplotlib inline \n",
    "from __future__ import division"
   ]
  },
  {
   "cell_type": "markdown",
   "metadata": {},
   "source": [
    "Questao 1 (10.2)"
   ]
  },
  {
   "cell_type": "code",
   "execution_count": 2,
   "metadata": {},
   "outputs": [
    {
     "data": {
      "text/plain": [
       "array([[ 0.6,  0.2,  0. ,  0.8],\n",
       "       [ 0.3,  0.3,  0.8,  0.1],\n",
       "       [ 0.1,  0.5,  0.2,  0.1]])"
      ]
     },
     "execution_count": 2,
     "metadata": {},
     "output_type": "execute_result"
    }
   ],
   "source": [
    "dados = np.array([[0.6,0.2,0.0,0.8],[0.3,0.3,0.8,0.1],[0.1,0.5,0.2,0.1]])\n",
    "dados"
   ]
  },
  {
   "cell_type": "code",
   "execution_count": 3,
   "metadata": {},
   "outputs": [
    {
     "data": {
      "text/plain": [
       "array([[ 0.6,  0.3,  0.3,  0.6],\n",
       "       [ 0.3,  0.5,  0.3,  0.2],\n",
       "       [ 0.3,  0.3,  0.8,  0.1],\n",
       "       [ 0.6,  0.2,  0.1,  0.8]])"
      ]
     },
     "execution_count": 3,
     "metadata": {},
     "output_type": "execute_result"
    }
   ],
   "source": [
    "#Criando relacao de similaridade (Tolerância)\n",
    "relacao_similaridade = fuzz.maxmin_composition(dados.transpose(),dados)\n",
    "relacao_similaridade"
   ]
  },
  {
   "cell_type": "code",
   "execution_count": 4,
   "metadata": {},
   "outputs": [
    {
     "name": "stdout",
     "output_type": "stream",
     "text": [
      "[[ 0.6  0.3  0.3  0.6]\n",
      " [ 0.3  0.5  0.3  0.3]\n",
      " [ 0.3  0.3  0.8  0.3]\n",
      " [ 0.6  0.3  0.3  0.8]]\n",
      "[[ 0.6  0.3  0.3  0.6]\n",
      " [ 0.3  0.5  0.3  0.3]\n",
      " [ 0.3  0.3  0.8  0.3]\n",
      " [ 0.6  0.3  0.3  0.8]]\n",
      "[[ 0.6  0.3  0.3  0.6]\n",
      " [ 0.3  0.5  0.3  0.3]\n",
      " [ 0.3  0.3  0.8  0.3]\n",
      " [ 0.6  0.3  0.3  0.8]]\n"
     ]
    }
   ],
   "source": [
    "#Criando relacao de similaridade (Equivalência) fazendo R composicao R n-1 vezes\n",
    "for i in range(relacao_similaridade.shape[0]-1):\n",
    "    relacao_similaridade = fuzz.maxmin_composition(relacao_similaridade,relacao_similaridade)\n",
    "    print(relacao_similaridade)"
   ]
  },
  {
   "cell_type": "code",
   "execution_count": 5,
   "metadata": {
    "collapsed": true
   },
   "outputs": [],
   "source": [
    "#Checando pra ver se realmente é de equivalência (Só a propriedade da transitividade fuzzy)\n",
    "for i in range(4):\n",
    "    for j in range(4):\n",
    "        for k in range(4):\n",
    "            if(relacao_similaridade[i][k]<min(relacao_similaridade[i][j],relacao_similaridade[j][k])):\n",
    "                print('false %d %d %d' %(i,j,k))"
   ]
  },
  {
   "cell_type": "code",
   "execution_count": 6,
   "metadata": {
    "collapsed": true
   },
   "outputs": [],
   "source": [
    "def lambda_cut(matriz,level):\n",
    "    for i in range(matriz.shape[0]):\n",
    "        for j in range(matriz.shape[1]):\n",
    "            if(matriz[i][j]>=level):\n",
    "                matriz[i][j] = 1.0\n",
    "            else:\n",
    "                matriz[i][j] = 0.0\n",
    "    return matriz"
   ]
  },
  {
   "cell_type": "code",
   "execution_count": 7,
   "metadata": {},
   "outputs": [
    {
     "data": {
      "text/plain": [
       "array([[ 1.,  0.,  0.,  1.],\n",
       "       [ 0.,  1.,  0.,  0.],\n",
       "       [ 0.,  0.,  1.,  0.],\n",
       "       [ 1.,  0.,  0.,  1.]])"
      ]
     },
     "execution_count": 7,
     "metadata": {},
     "output_type": "execute_result"
    }
   ],
   "source": [
    "relacao_crisp = lambda_cut(relacao_similaridade,0.5)\n",
    "relacao_crisp"
   ]
  },
  {
   "cell_type": "markdown",
   "metadata": {},
   "source": [
    "Podemos ver que a divisão de grupos é {{x1,x4},{x2},{x3}}"
   ]
  },
  {
   "cell_type": "markdown",
   "metadata": {},
   "source": [
    "##########################################################################"
   ]
  },
  {
   "cell_type": "markdown",
   "metadata": {},
   "source": [
    "Questao 2 (10.5)"
   ]
  },
  {
   "cell_type": "code",
   "execution_count": 8,
   "metadata": {
    "collapsed": true
   },
   "outputs": [],
   "source": [
    "#irei logo criar as funções HCM e FCM que serão utilizadas nas próximas\n",
    "#Funcoes uteis\n",
    "def calcular_posicao_centroides(U,pontos):\n",
    "    v = np.zeros((U.shape[0],pontos.shape[1]))\n",
    "    dividendo,divisor = (0.0,0.0)\n",
    "    for i in range(v.shape[0]):\n",
    "        for j in range(v.shape[1]):\n",
    "            for k in range(U.shape[1]):\n",
    "                dividendo = dividendo + (U[i][k] * pontos[k][j])\n",
    "                divisor = divisor + U[i][k]\n",
    "            v[i][j]=dividendo/divisor;\n",
    "            dividendo,divisor = (0.0,0.0)\n",
    "    return v\n",
    "def calcular_posicao_centroides_fuzzy(U,pontos,m_linha):\n",
    "    v = np.zeros((U.shape[0],pontos.shape[1]))\n",
    "    dividendo,divisor = (0.0,0.0)\n",
    "    for i in range(v.shape[0]):\n",
    "        for j in range(v.shape[1]):\n",
    "            for k in range(U.shape[1]):\n",
    "                dividendo = dividendo + ( (U[i][k])**m_linha * pontos[k][j])\n",
    "                divisor = divisor + (U[i][k])**m_linha\n",
    "            v[i][j]=dividendo/divisor;\n",
    "            dividendo,divisor = (0.0,0.0)\n",
    "    return v\n",
    "\n",
    "def calcular_distancias(v,pontos):\n",
    "    d = np.zeros((v.shape[0],pontos.shape[0]))\n",
    "    for i in range(v.shape[0]):\n",
    "        for j in range(pontos.shape[0]):\n",
    "            for k in range(pontos.shape[1]):\n",
    "                d[i][j] = d[i][j] + ( pontos[j][k] - v[i][k] )**2\n",
    "            d[i][j] = np.sqrt(d[i][j])\n",
    "    return d\n",
    "\n",
    "def erro_total_particao(U,d):\n",
    "    J_u_v = 0.0\n",
    "    for i in range(d.shape[0]):\n",
    "        for j in range(d.shape[1]):\n",
    "            J_u_v = J_u_v + ( U[i][j] * (d[i][j])**2 )\n",
    "    return J_u_v\n",
    "\n",
    "def erro_total_particao_fuzzy(U,d,m_linha):\n",
    "    J_u_v = 0.0\n",
    "    for i in range(d.shape[0]):\n",
    "        for j in range(d.shape[1]):\n",
    "            J_u_v = J_u_v + ( (U[i][j])**m_linha * (d[i][j])**2 )\n",
    "    return J_u_v\n",
    "\n",
    "def realocar_pontos_HCM(U,d):\n",
    "    U_new = np.zeros((U.shape[0],U.shape[1]))\n",
    "    for j in range(U.shape[1]):\n",
    "        pos = argmin(d[:,j])\n",
    "        U_new[pos][j] = 1.0\n",
    "    return U_new\n",
    "\n",
    "def realocar_pontos_FCM(U,d,m_linha):\n",
    "    U_new = np.zeros((U.shape[0],U.shape[1]))\n",
    "    for i in range(U.shape[0]):    \n",
    "        for j in range(U.shape[1]):\n",
    "            for k in range(U.shape[0]):\n",
    "                if(d[k][j]!=0): # para prevenir divisoes por 0\n",
    "                    U_new[i][j] = U_new[i][j] + (d[i][j] / d[k][j])**(2.0/(m_linha-1.0))\n",
    "            if(U_new[i][j]!=0):\n",
    "                U_new[i][j] = U_new[i][j]**(-1)\n",
    "    return U_new\n",
    "\n",
    "def HCM(U,pontos,maxIteracoes):\n",
    "    while(maxIteracoes > 0):\n",
    "        v = calcular_posicao_centroides(U,pontos)\n",
    "        #print(v)\n",
    "        d = calcular_distancias(v,pontos)\n",
    "        #print(d)\n",
    "        U_new = realocar_pontos_HCM(U,d)\n",
    "        print(\"Erro total: %f\" %erro_total_particao(U,d))\n",
    "        if(AL.norm(U_new - U )<0.01):\n",
    "            break\n",
    "        else:\n",
    "            U = U_new\n",
    "            maxIteracoes = maxIteracoes - 1;\n",
    "    return U\n",
    "\n",
    "def FCM(U,pontos,maxIteracoes,m_linha,epslon):\n",
    "    while(maxIteracoes > 0):\n",
    "        v = calcular_posicao_centroides_fuzzy(U,pontos,m_linha)\n",
    "        #print(v)\n",
    "        d = calcular_distancias(v,pontos)\n",
    "        #print(d)\n",
    "        U_new = realocar_pontos_FCM(U,d,m_linha)\n",
    "        print(\"Erro total: %f\" %erro_total_particao_fuzzy(U,d,m_linha))\n",
    "        if(AL.norm(U_new - U )<epslon):\n",
    "            break\n",
    "        else:\n",
    "            U = U_new\n",
    "            maxIteracoes = maxIteracoes - 1;\n",
    "    return U\n",
    "\n",
    "def calcular_nivel_incerteza(U):\n",
    "    n = U.shape[1]\n",
    "    return np.trace(np.matmul(U , U.transpose()))/(n)\n",
    "\n",
    "def calcular_relacao_similaridade(U):\n",
    "    matriz_similaridade = np.zeros((U.shape[1],U.shape[1]))\n",
    "    U_t = U.transpose()\n",
    "    for i in range(matriz_similaridade.shape[0]):\n",
    "        for j in range(matriz_similaridade.shape[1]):\n",
    "            for k in range(U.shape[0]):\n",
    "                matriz_similaridade[i][j] = matriz_similaridade[i][j] + min(U_t[i][k],U[k][j])\n",
    "    return matriz_similaridade"
   ]
  },
  {
   "cell_type": "code",
   "execution_count": 9,
   "metadata": {},
   "outputs": [
    {
     "name": "stdout",
     "output_type": "stream",
     "text": [
      "Erro total: 7.500000\n",
      "Erro total: 6.874403\n",
      "Erro total: 6.854464\n",
      "Erro total: 6.850617\n",
      "Resultado: U = \n",
      " [[ 0.96190154  0.82503041  0.05570918  0.02820576]\n",
      " [ 0.03809846  0.17496959  0.94429082  0.97179424]]\n",
      "\n",
      "O nível de inecerteza de U é: 0.869491\n",
      "\n",
      "A relação de similaridade proveniente de U é: \n",
      " [[ 1.          0.86312888  0.09380764  0.06630422]\n",
      " [ 0.86312888  1.          0.23067877  0.20317534]\n",
      " [ 0.09380764  0.23067877  1.          0.97249657]\n",
      " [ 0.06630422  0.20317534  0.97249657  1.        ]]\n"
     ]
    }
   ],
   "source": [
    "X = np.array([[5,5],[6,8],[8,10],[9,12]])\n",
    "U = np.array([[1,1,0,0],[0,0,1,1]])\n",
    "U_new = FCM(U,X,200,2,0.01)\n",
    "print(\"Resultado: U = \\n\",U_new)\n",
    "print(\"\\nO nível de inecerteza de U é: %f\" %calcular_nivel_incerteza(U_new))\n",
    "print(\"\\nA relação de similaridade proveniente de U é: \\n\",calcular_relacao_similaridade(U_new))"
   ]
  },
  {
   "cell_type": "markdown",
   "metadata": {},
   "source": [
    "#####################################################################"
   ]
  },
  {
   "cell_type": "markdown",
   "metadata": {},
   "source": [
    "Questao 3 (10.8)"
   ]
  },
  {
   "cell_type": "code",
   "execution_count": 10,
   "metadata": {},
   "outputs": [
    {
     "name": "stdout",
     "output_type": "stream",
     "text": [
      "Erro total: 12.833333\n",
      "Erro total: 11.330637\n",
      "Erro total: 8.303686\n",
      "Resultado: U = \n",
      " [[ 0.64087995  0.76414446  0.36061453  0.47476499]\n",
      " [ 0.35912005  0.23585554  0.63938547  0.52523501]]\n",
      "\n",
      "O nível de inecerteza de U é: 0.554842\n",
      "\n",
      "A relação de similaridade proveniente de U é: \n",
      " [[ 1.          0.87673548  0.71973458  0.83388505]\n",
      " [ 0.87673548  1.          0.59647007  0.71062053]\n",
      " [ 0.71973458  0.59647007  1.          0.88584953]\n",
      " [ 0.83388505  0.71062053  0.88584953  1.        ]]\n"
     ]
    }
   ],
   "source": [
    "exemplos = np.array([[-3.,1.],[-2.,2],[-1.,-1.5],[1.,2.]])\n",
    "U = np.array([[1,0,0,0],[0,1,1,1]])\n",
    "U_new = FCM(U,exemplos,3,2,0.01)\n",
    "print(\"Resultado: U = \\n\",U_new)\n",
    "print(\"\\nO nível de inecerteza de U é: %f\" %calcular_nivel_incerteza(U_new))\n",
    "print(\"\\nA relação de similaridade proveniente de U é: \\n\",calcular_relacao_similaridade(U_new))"
   ]
  },
  {
   "cell_type": "markdown",
   "metadata": {},
   "source": [
    "######################################################################"
   ]
  },
  {
   "cell_type": "markdown",
   "metadata": {},
   "source": [
    "Questao 4 (10.11)"
   ]
  },
  {
   "cell_type": "code",
   "execution_count": 11,
   "metadata": {},
   "outputs": [
    {
     "name": "stdout",
     "output_type": "stream",
     "text": [
      "Erro total: 83.926324\n",
      "Erro total: 41.908824\n",
      "Erro total: 41.143728\n",
      "Erro total: 37.243123\n",
      "Erro total: 31.572574\n",
      "Erro total: 26.429527\n",
      "Erro total: 24.386861\n",
      "Erro total: 24.094132\n",
      "Erro total: 24.051846\n",
      "Erro total: 24.024215\n",
      "Resultado: U = \n",
      " [[ 0.03620567  0.79499328  0.34808701  0.9490095 ]\n",
      " [ 0.96379433  0.20500672  0.65191299  0.0509905 ]]\n",
      "\n",
      "O nível de inecerteza de U é: 0.763407\n",
      "\n",
      "A relação de similaridade proveniente de U é: \n",
      " [[ 1.          0.24121239  0.68811866  0.08719617]\n",
      " [ 0.24121239  1.          0.55309373  0.84598378]\n",
      " [ 0.68811866  0.55309373  1.          0.39907751]\n",
      " [ 0.08719617  0.84598378  0.39907751  1.        ]]\n"
     ]
    }
   ],
   "source": [
    "tipos = np.array([[0.679,85.5,2.25],[0.7056,93.0,2.177],[0.701,91.0,2.253],[0.718,98.3,2.177]])\n",
    "U = np.array([[0,1,1,0],[1,0,0,1]])\n",
    "U_new = FCM(U,tipos,10,2,0.01)\n",
    "print(\"Resultado: U = \\n\", U_new)\n",
    "print(\"\\nO nível de inecerteza de U é: %f\" %calcular_nivel_incerteza(U_new))\n",
    "print(\"\\nA relação de similaridade proveniente de U é: \\n\",calcular_relacao_similaridade(U_new))"
   ]
  },
  {
   "cell_type": "markdown",
   "metadata": {},
   "source": [
    "Tentei algumas métricas de normalizações mas os resultados foram piores."
   ]
  },
  {
   "cell_type": "code",
   "execution_count": 12,
   "metadata": {},
   "outputs": [
    {
     "name": "stdout",
     "output_type": "stream",
     "text": [
      "Erro total: 0.010550\n",
      "Erro total: 0.005280\n",
      "Erro total: 0.005196\n",
      "Erro total: 0.004621\n",
      "Erro total: 0.003636\n",
      "Erro total: 0.003070\n",
      "Erro total: 0.002901\n",
      "Erro total: 0.002875\n",
      "Erro total: 0.002871\n",
      "Erro total: 0.002870\n",
      "Resultado: U = \n",
      " [[ 0.04037439  0.83793889  0.27787268  0.95158111]\n",
      " [ 0.95962561  0.16206111  0.72212732  0.04841889]]\n",
      "\n",
      "O nível de inecerteza de U é: 0.789362\n",
      "\n",
      "A relação de similaridade proveniente de U é: \n",
      " [[ 1.          0.2024355   0.76250171  0.08879328]\n",
      " [ 0.2024355   1.          0.43993379  0.88635778]\n",
      " [ 0.76250171  0.43993379  1.          0.32629157]\n",
      " [ 0.08879328  0.88635778  0.32629157  1.        ]]\n"
     ]
    }
   ],
   "source": [
    "tipos = np.array([[0.679,85.5,2.25],[0.7056,93.0,2.177],[0.701,91.0,2.253],[0.718,98.3,2.177]])\n",
    "tipos[:,1] = tipos[:,1]/98.3\n",
    "tipos[:,2] = tipos[:,2]/2.253\n",
    "U = np.array([[0,1,1,0],[1,0,0,1]])\n",
    "U_new = FCM(U,tipos,10,2,0.01)\n",
    "print(\"Resultado: U = \\n\", U_new)\n",
    "print(\"\\nO nível de inecerteza de U é: %f\" %calcular_nivel_incerteza(U_new))\n",
    "print(\"\\nA relação de similaridade proveniente de U é: \\n\",calcular_relacao_similaridade(U_new))"
   ]
  },
  {
   "cell_type": "markdown",
   "metadata": {},
   "source": [
    "#################################################################################"
   ]
  },
  {
   "cell_type": "markdown",
   "metadata": {},
   "source": [
    "Questao 5 (10.12)"
   ]
  },
  {
   "cell_type": "code",
   "execution_count": 13,
   "metadata": {},
   "outputs": [
    {
     "name": "stdout",
     "output_type": "stream",
     "text": [
      "Erro total: 18424.811667\n",
      "Erro total: 6949.657435\n",
      "Erro total: 3164.615433\n",
      "Erro total: 2618.443263\n",
      "Erro total: 2603.895207\n",
      "Resultado: U = \n",
      " [[ 0.03106503  0.06285678  0.98377436  0.86299843  0.99174471]\n",
      " [ 0.96893497  0.93714322  0.01622564  0.13700157  0.00825529]]\n",
      "\n",
      "O nível de inecerteza de U é: 0.907445\n",
      "\n",
      "A relação de similaridade proveniente de U é: \n",
      " [[ 1.          0.96820825  0.04729067  0.1680666   0.03932032]\n",
      " [ 0.96820825  1.          0.07908243  0.19985836  0.07111207]\n",
      " [ 0.04729067  0.07908243  1.          0.87922407  0.99202965]\n",
      " [ 0.1680666   0.19985836  0.87922407  1.          0.87125371]\n",
      " [ 0.03932032  0.07111207  0.99202965  0.87125371  1.        ]]\n"
     ]
    }
   ],
   "source": [
    "condicoes = np.array([[1.,420.],[1.7,370.],[1.,260.],[9.,310.],[9.5,265]])\n",
    "U = np.array([[1,0,1,0,1],[0,1,0,1,0]])\n",
    "U_new = FCM(U,condicoes,10,2,0.01)\n",
    "\n",
    "print(\"Resultado: U = \\n\", U_new)\n",
    "print(\"\\nO nível de inecerteza de U é: %f\" %calcular_nivel_incerteza(U_new))\n",
    "print(\"\\nA relação de similaridade proveniente de U é: \\n\",calcular_relacao_similaridade(U_new))"
   ]
  },
  {
   "cell_type": "markdown",
   "metadata": {},
   "source": [
    "Tentando normalizar :  (vou tentar deixar todos os valores com a mesma significancia, entre 0 e 1)"
   ]
  },
  {
   "cell_type": "code",
   "execution_count": 14,
   "metadata": {},
   "outputs": [
    {
     "name": "stdout",
     "output_type": "stream",
     "text": [
      "[[ 0.10526316  1.        ]\n",
      " [ 0.17894737  0.88095238]\n",
      " [ 0.10526316  0.61904762]\n",
      " [ 0.94736842  0.73809524]\n",
      " [ 1.          0.63095238]]\n",
      "Erro total: 0.932963\n",
      "Erro total: 0.382256\n",
      "Erro total: 0.112099\n",
      "Erro total: 0.082977\n",
      "Resultado: U = \n",
      " [[ 0.96601767  0.99442715  0.93843606  0.00365358  0.00699969]\n",
      " [ 0.03398233  0.00557285  0.06156394  0.99634642  0.99300031]]\n",
      "\n",
      "O nível de inecerteza de U é: 0.957306\n",
      "\n",
      "A relação de similaridade proveniente de U é: \n",
      " [[ 1.          0.97159052  0.97241839  0.03763591  0.04098202]\n",
      " [ 0.97159052  1.          0.94400891  0.00922643  0.01257254]\n",
      " [ 0.97241839  0.94400891  1.          0.06521752  0.06856363]\n",
      " [ 0.03763591  0.00922643  0.06521752  1.          0.99665388]\n",
      " [ 0.04098202  0.01257254  0.06856363  0.99665388  1.        ]]\n"
     ]
    }
   ],
   "source": [
    "condicoes = np.array([[1.,420.],[1.7,370.],[1.,260.],[9.,310.],[9.5,265]])\n",
    "condicoes[:,0] = condicoes[:,0]/9.5\n",
    "condicoes[:,1] = condicoes[:,1]/420\n",
    "print(condicoes)\n",
    "U = np.array([[1,0,1,0,1],[0,1,0,1,0]])\n",
    "U_new = FCM(U,condicoes,10,2,0.01)\n",
    "\n",
    "print(\"Resultado: U = \\n\", U_new)\n",
    "print(\"\\nO nível de inecerteza de U é: %f\" %calcular_nivel_incerteza(U_new))\n",
    "print(\"\\nA relação de similaridade proveniente de U é: \\n\",calcular_relacao_similaridade(U_new))"
   ]
  },
  {
   "cell_type": "markdown",
   "metadata": {
    "collapsed": true
   },
   "source": [
    "#########################################################################"
   ]
  },
  {
   "cell_type": "markdown",
   "metadata": {},
   "source": [
    "Questao 5 (11.10)"
   ]
  },
  {
   "cell_type": "code",
   "execution_count": 39,
   "metadata": {
    "collapsed": true
   },
   "outputs": [],
   "source": [
    "velocidade = np.arange(5,20.1,0.1)\n",
    "area = np.arange(50,170.1,0.1)\n",
    "\n",
    "L_vel = fuzz.gaussmf(velocidade,5,3)\n",
    "M_vel = fuzz.gaussmf(velocidade,10,5)\n",
    "H_vel = fuzz.gaussmf(velocidade,15,3)\n",
    "\n",
    "S_area = fuzz.gaussmf(area,50,26)\n",
    "M_area = fuzz.gaussmf(area,100,18)\n",
    "B_area = fuzz.gaussmf(area,150,4)"
   ]
  },
  {
   "cell_type": "code",
   "execution_count": 40,
   "metadata": {},
   "outputs": [
    {
     "name": "stdout",
     "output_type": "stream",
     "text": [
      "x =  [   8.  120.]\n",
      "w =  [ 0.4  0.6]\n"
     ]
    }
   ],
   "source": [
    "# velocidade = 8 e area = 120\n",
    "x = np.array([8.,120.])\n",
    "w = np.array([0.4,0.6])\n",
    "print(\"x = \", x)\n",
    "print(\"w = \", w)"
   ]
  },
  {
   "cell_type": "code",
   "execution_count": 41,
   "metadata": {},
   "outputs": [
    {
     "name": "stdout",
     "output_type": "stream",
     "text": [
      "Pertinencias a low, moderate e high respectivamente: [ 0.14757851  0.51543379  0.0017281 ]\n",
      "A amostra capturada pertence ao conjunto: 2\n"
     ]
    }
   ],
   "source": [
    "#note que 8 está em velocidade[30] e 120 está em area[700] , posicaoReal = (posicaoNumerica-baseNumerica)*10\n",
    "\n",
    "low_rate = (w[0] * L_vel[30]) + (w[1] * S_area[700]) \n",
    "moderate_rate = (w[0] * M_vel[30]) + (w[1] * M_area[700])\n",
    "high_rate = (w[0] * H_vel[30]) + (w[1] * B_area[700])\n",
    "\n",
    "pertinencias = np.array([low_rate,moderate_rate,high_rate])\n",
    "print(\"Pertinencias a low, moderate e high respectivamente:\", pertinencias)\n",
    "\n",
    "maior_pert = argmax(pertinencias) + 1\n",
    "print(\"A amostra capturada pertence ao conjunto:\",maior_pert)"
   ]
  },
  {
   "cell_type": "markdown",
   "metadata": {},
   "source": [
    "2 = Moderate Flow"
   ]
  },
  {
   "cell_type": "markdown",
   "metadata": {},
   "source": [
    "#################################################################"
   ]
  },
  {
   "cell_type": "markdown",
   "metadata": {},
   "source": [
    "Questão 7 (11.11)"
   ]
  },
  {
   "cell_type": "code",
   "execution_count": 43,
   "metadata": {},
   "outputs": [
    {
     "data": {
      "text/plain": [
       "[<matplotlib.lines.Line2D at 0x7f0cdfe98390>]"
      ]
     },
     "execution_count": 43,
     "metadata": {},
     "output_type": "execute_result"
    },
    {
     "data": {
      "image/png": "[encoded data removed]",
      "text/plain": [
       "<matplotlib.figure.Figure at 0x7f0cdf65b6a0>"
      ]
     },
     "metadata": {},
     "output_type": "display_data"
    },
    {
     "data": {
      "image/png": "[encoded data removed]",
      "text/plain": [
       "<matplotlib.figure.Figure at 0x7f0cdfe8b6a0>"
      ]
     },
     "metadata": {},
     "output_type": "display_data"
    }
   ],
   "source": [
    "input_B_vel = fuzz.trimf(velocidade,[7,11,15])\n",
    "input_B_area = fuzz.trimf(area,[90,130,170])\n",
    "\n",
    "plt.figure()\n",
    "plt.plot(velocidade,input_B_vel)\n",
    "plt.figure()\n",
    "plt.plot(area,input_B_area)"
   ]
  },
  {
   "cell_type": "code",
   "execution_count": 45,
   "metadata": {},
   "outputs": [
    {
     "data": {
      "text/plain": [
       "0.58021869982287699"
      ]
     },
     "execution_count": 45,
     "metadata": {},
     "output_type": "execute_result"
    }
   ],
   "source": [
    "B_proximidade_1 = (w[0] * ((1./2.) * ( fuzz.inner_product(input_B_vel,L_vel) + (1. -  fuzz.outer_product(input_B_vel,L_vel))))) + (w[1] * ((1./2.) * ( fuzz.inner_product(input_B_area,S_area) + (1. -  fuzz.outer_product(input_B_area,S_area)))))\n",
    "B_proximidade_1"
   ]
  },
  {
   "cell_type": "code",
   "execution_count": 46,
   "metadata": {},
   "outputs": [
    {
     "data": {
      "text/plain": [
       "0.86396064249314053"
      ]
     },
     "execution_count": 46,
     "metadata": {},
     "output_type": "execute_result"
    }
   ],
   "source": [
    "B_proximidade_2 = (w[0] * ((1./2.) * ( fuzz.inner_product(input_B_vel,M_vel) + (1. -  fuzz.outer_product(input_B_vel,M_vel))))) + (w[1] * ((1./2.) * ( fuzz.inner_product(input_B_area,M_area) + (1. -  fuzz.outer_product(input_B_area,M_area)))))\n",
    "B_proximidade_2"
   ]
  },
  {
   "cell_type": "code",
   "execution_count": 47,
   "metadata": {},
   "outputs": [
    {
     "data": {
      "text/plain": [
       "0.78285910950604221"
      ]
     },
     "execution_count": 47,
     "metadata": {},
     "output_type": "execute_result"
    }
   ],
   "source": [
    "B_proximidade_3 = (w[0] * ((1./2.) * ( fuzz.inner_product(input_B_vel,H_vel) + (1. -  fuzz.outer_product(input_B_vel,H_vel))))) + (w[1] * ((1./2.) * ( fuzz.inner_product(input_B_area,B_area) + (1. -  fuzz.outer_product(input_B_area,B_area)))))\n",
    "B_proximidade_3"
   ]
  },
  {
   "cell_type": "markdown",
   "metadata": {},
   "source": [
    "Logo, podemos ver que B está mais próximo do conjunto 2, Moderate Flow-Rate"
   ]
  },
  {
   "cell_type": "code",
   "execution_count": null,
   "metadata": {
    "collapsed": true
   },
   "outputs": [],
   "source": []
  }
 ],
 "metadata": {
  "kernelspec": {
   "display_name": "Python 3",
   "language": "python",
   "name": "python3"
  },
  "language_info": {
   "codemirror_mode": {
    "name": "ipython",
    "version": 3
   },
   "file_extension": ".py",
   "mimetype": "text/x-python",
   "name": "python",
   "nbconvert_exporter": "python",
   "pygments_lexer": "ipython3",
   "version": "3.6.1"
  }
 },
 "nbformat": 4,
 "nbformat_minor": 2
}
