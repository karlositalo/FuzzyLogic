{
 "cells": [
  {
   "cell_type": "markdown",
   "metadata": {},
   "source": [
    "TESTE 2 - KARLOS"
   ]
  },
  {
   "cell_type": "code",
   "execution_count": 1,
   "metadata": {
    "collapsed": true
   },
   "outputs": [],
   "source": [
    "#importar os pacotes necessários\n",
    "import numpy as np\n",
    "import skfuzzy as fuzz\n",
    "import matplotlib\n",
    "import matplotlib.pyplot as plt\n",
    "import matplotlib.lines as mlines\n",
    "from matplotlib.font_manager import FontProperties\n",
    "%matplotlib inline "
   ]
  },
  {
   "cell_type": "code",
   "execution_count": 2,
   "metadata": {
    "collapsed": true
   },
   "outputs": [],
   "source": [
    "intervalo1 = np.arange(0, 11, 0.1)\n",
    "intervalo2 = np.arange(0, 11, 0.1)\n",
    "A11 = fuzz.trimf (intervalo1, [2, 5, 7])\n",
    "A21 = fuzz.trimf (intervalo1, [4, 7, 10])\n",
    "A12 = fuzz.trimf (intervalo2, [1, 4, 7])\n",
    "A22 = fuzz.trimf (intervalo2, [3, 6, 9])\n",
    "def f1 (x,y): return 1.5*x - y \n",
    "def f2 (x,y): return 1.5*y - x "
   ]
  },
  {
   "cell_type": "code",
   "execution_count": 3,
   "metadata": {
    "collapsed": true
   },
   "outputs": [],
   "source": [
    "def itemA(x,y): #ISSO QUE DEVE SER CHAMADO\n",
    "    w1 = min(A11[int(x*10)],A21[int(y*10)])\n",
    "    w2 = max(A12[int(x*10)],A22[int(y*10)])\n",
    "    return (w1*f1(x,y) + w2*f2(x,y))/(w1+w2)"
   ]
  },
  {
   "cell_type": "code",
   "execution_count": 4,
   "metadata": {},
   "outputs": [
    {
     "data": {
      "image/png": "[encoded data removed]",
      "text/plain": [
       "<matplotlib.figure.Figure at 0xb616392c>"
      ]
     },
     "metadata": {},
     "output_type": "display_data"
    }
   ],
   "source": [
    "fig,ax = plt.subplots()\n",
    "ax.plot(intervalo1,A11,label = 'A11')\n",
    "ax.plot(intervalo1,A21,label = 'A21')\n",
    "ax.plot(intervalo1,A12,label = 'A12') \n",
    "ax.plot(intervalo1,A22,label = 'A22') \n",
    "ax.grid(True)\n",
    "ax.legend(loc='upper right')\n",
    "plt.show()\n"
   ]
  },
  {
   "cell_type": "code",
   "execution_count": 5,
   "metadata": {},
   "outputs": [
    {
     "data": {
      "text/plain": [
       "3.0000000000000004"
      ]
     },
     "execution_count": 5,
     "metadata": {},
     "output_type": "execute_result"
    }
   ],
   "source": [
    "itemA(5,6)"
   ]
  },
  {
   "cell_type": "code",
   "execution_count": 6,
   "metadata": {
    "collapsed": true
   },
   "outputs": [],
   "source": [
    "intervalo3 = np.arange(0, 11, 0.1)\n",
    "C1 = fuzz.trimf(intervalo3, [2, 10, 10])\n",
    "C2 = fuzz.trimf(intervalo3, [1, 1, 5])\n",
    "def posicao(conjunto,valor):\n",
    "    maisProx = 1\n",
    "    aux = 0\n",
    "    for i in range(conjunto.size):\n",
    "        if abs(valor - conjunto[i]) < maisProx :\n",
    "            maisProx = abs(valor - conjunto[i])\n",
    "            aux = i\n",
    "    return aux"
   ]
  },
  {
   "cell_type": "code",
   "execution_count": 7,
   "metadata": {
    "collapsed": true
   },
   "outputs": [],
   "source": [
    "def itemB(x,y): #ISSO QUE DEVE SER CHAMADO\n",
    "    w1 = min(A11[int(x*10)],A21[int(y*10)])\n",
    "    w2 = max(A12[int(x*10)],A22[int(y*10)])\n",
    "    return (w1*(posicao(C1,w1)/10) + w2*(posicao(C2,w2))/10)/(w1+w2)"
   ]
  },
  {
   "cell_type": "code",
   "execution_count": 8,
   "metadata": {},
   "outputs": [
    {
     "data": {
      "text/plain": [
       "3.52"
      ]
     },
     "execution_count": 8,
     "metadata": {},
     "output_type": "execute_result"
    }
   ],
   "source": [
    "itemB(5,6)"
   ]
  },
  {
   "cell_type": "markdown",
   "metadata": {},
   "source": [
    "Resposta item C:\n",
    "Não sei como analisar estes aspectos da regra.\n",
    "Observei que em alguns valores no Sugeno(itemA) dão negativos e acima do valor máximo de domínio."
   ]
  },
  {
   "cell_type": "markdown",
   "metadata": {},
   "source": [
    "Questao 2"
   ]
  },
  {
   "cell_type": "code",
   "execution_count": 9,
   "metadata": {
    "collapsed": true
   },
   "outputs": [],
   "source": [
    "temp =np.arange( 0 , 46 , 1 )\n",
    "pessoas = np.arange( 0 , 101 , 1 )\n",
    "freq = np.arange( 0 , 101 , 1 )"
   ]
  },
  {
   "cell_type": "code",
   "execution_count": 10,
   "metadata": {
    "collapsed": true
   },
   "outputs": [],
   "source": [
    "t_quente=fuzz.trimf(temp,[34,47,47])\n",
    "t_moder=fuzz.trapmf(temp,[10,21,25,36])\n",
    "t_frio=fuzz.trimf(temp,[0,0,15])\n",
    "\n",
    "p_cheio=fuzz.trimf(pessoas,[60,100,100])\n",
    "p_moder=fuzz.trapmf(pessoas,[20,40,60,80])\n",
    "p_vazio=fuzz.trimf(pessoas,[0,0,40])\n",
    "\n",
    "f_cheio=fuzz.trimf(pessoas,[60,100,100])\n",
    "f_moder=fuzz.trapmf(pessoas,[20,40,60,80])\n",
    "f_vazio=fuzz.trimf(pessoas,[0,0,40])"
   ]
  },
  {
   "cell_type": "markdown",
   "metadata": {},
   "source": [
    "Se o tempo está frio ou quente e o ultimo passeio foi lotado então a frequencia será baixa. ---\n",
    "Se o tempo está friou ou quente e o ultimo passeio foi moderado ou vazio então a frequência será moderada. ---\n",
    "Se o tempo está moderado e o ultimo passeio foi lotado então a frenquência será moderada. --- \n",
    "Se o tempo está moderado e o ultimo passeio foi moderado ou vazio então a frequência será alta. ---"
   ]
  },
  {
   "cell_type": "code",
   "execution_count": 11,
   "metadata": {
    "collapsed": true
   },
   "outputs": [],
   "source": [
    "#mandami max min\n",
    "x = 30 #30 graus\n",
    "y = 70 #70 pessoas\n",
    "quenteOuFrio = fuzz.fuzzy_or(temp,t_quente,temp,t_frio)[1]\n",
    "moderadoOuVazio = fuzz.fuzzy_or(pessoas,p_moder,pessoas,p_vazio)[1]\n",
    "inputr1 = min(quenteOuFrio[x],p_cheio[y]);\n",
    "inputr2 = min(quenteOuFrio[x],p_moder[y])\n",
    "inputr3 = min(t_moder[x],moderadoOuVazio[y])\n",
    "inputr4 = min(t_moder[x],moderadoOuVazio[y])\n",
    "\n",
    "\n",
    "\n",
    "def novaRegra(regra, inputr):\n",
    "    v = np.copy(regra)\n",
    "    for j in range(v.size):\n",
    "        if v[j]>inputr:\n",
    "            v[j]=inputr\n",
    "    return v;\n",
    "            \n",
    "\n",
    "\n",
    "#regras\n",
    "\n",
    "R1=novaRegra(f_vazio,inputr1)\n",
    "R2=novaRegra(f_moder,inputr2)\n",
    "R3=novaRegra(f_moder,inputr3)\n",
    "R4=novaRegra(f_cheio,inputr4)\n",
    "\n",
    "#conclusao (juntar tudo usando operador de maximo)\n",
    "\n",
    "RF=fuzz.fuzzy_or(pessoas,R4,pessoas,fuzz.fuzzy_or(pessoas,R3,pessoas,fuzz.fuzzy_or(pessoas,R2,pessoas,R1)[1])[1])[1]"
   ]
  },
  {
   "cell_type": "code",
   "execution_count": 12,
   "metadata": {},
   "outputs": [
    {
     "data": {
      "text/plain": [
       "62.174278573051573"
      ]
     },
     "execution_count": 12,
     "metadata": {},
     "output_type": "execute_result"
    }
   ],
   "source": [
    "#defuzz\n",
    "defuzz_centroid = fuzz.defuzz(pessoas, RF, 'centroid')\n",
    "defuzz_centroid"
   ]
  },
  {
   "cell_type": "code",
   "execution_count": 13,
   "metadata": {},
   "outputs": [
    {
     "data": {
      "text/plain": [
       "[<matplotlib.lines.Line2D at 0xa4f4d26c>]"
      ]
     },
     "execution_count": 13,
     "metadata": {},
     "output_type": "execute_result"
    },
    {
     "data": {
      "image/png": "[encoded data removed]",
      "text/plain": [
       "<matplotlib.figure.Figure at 0xa4f3338c>"
      ]
     },
     "metadata": {},
     "output_type": "display_data"
    }
   ],
   "source": [
    "plt.plot(pessoas,RF)"
   ]
  },
  {
   "cell_type": "markdown",
   "metadata": {},
   "source": [
    "Questao 3"
   ]
  },
  {
   "cell_type": "code",
   "execution_count": 62,
   "metadata": {
    "collapsed": true
   },
   "outputs": [],
   "source": [
    "servico=np.arange(0,11,0.1)#interlavodavariavelservico(notade0a10)\n",
    "comida=np.arange(0,11,0.1)#intervalodavariavelcomida(notade0a10)\n",
    "gorjeta=np.arange(0,51,0.1)#intervaloparaavariaveldesaidagorjeta\n",
    "\n",
    "#funcoesdepertinenciaparaservico\n",
    "bom=fuzz.trimf(servico,[7,10,10])\n",
    "medio=fuzz.trapmf(servico,[2,4,6,8])\n",
    "ruim=fuzz.trimf(servico,[0,0,5])\n",
    "\n",
    "#funcoesdepertinenciaparaascomida\n",
    "otimo=fuzz.trimf(comida,[7,10,10])\n",
    "razoavel=fuzz.trapmf(comida,[2,4,6,8])\n",
    "pessimo=fuzz.trimf(comida,[0,0,5])\n",
    "\n",
    "#saida modifiquei pq tá sem sentido\n",
    "alta=fuzz.trimf(gorjeta,[30,50,50])\n",
    "media=fuzz.trapmf(gorjeta,[15,25,30,35])\n",
    "baixa=fuzz.trimf(gorjeta,[0,0,15])\n"
   ]
  },
  {
   "cell_type": "markdown",
   "metadata": {},
   "source": [
    "Servico ruim e comida ruim -> gorjeta baixa || servico medio e comida media -> gorjeta media || servico bom e comida boa -> gorjeta boa."
   ]
  },
  {
   "cell_type": "code",
   "execution_count": 84,
   "metadata": {},
   "outputs": [
    {
     "data": {
      "text/plain": [
       "25.506503168917103"
      ]
     },
     "execution_count": 84,
     "metadata": {},
     "output_type": "execute_result"
    }
   ],
   "source": [
    "qualidadeComida = 6.1\n",
    "qualidadeServico = 8.4\n",
    "\n",
    "regra1 = min(ruim[60],pessimo[83])\n",
    "regra2 = min(medio[60],razoavel[83])\n",
    "regra3 = min(bom[60],otimo[83])\n",
    "regra4 = min(ruim[60],otimo[83])\n",
    "regra5 = min(medio[60],pessimo[83])\n",
    "regra6 = min(bom[60],razoavel[83])\n",
    "regra7 = min(ruim[60],razoavel[83])\n",
    "regra8 = min(medio[60],otimo[83])\n",
    "regra9 = min(bom[60],pessimo[83])\n",
    "\n",
    "def novaRegraMin(regra, inputr):\n",
    "    v = np.copy(regra)\n",
    "    for j in range(v.size):\n",
    "        if v[j]>inputr:\n",
    "            v[j]=inputr\n",
    "    return v;\n",
    "\n",
    "R1 = novaRegraMin(baixa,regra1)\n",
    "R2 = novaRegraMin(media,regra2)\n",
    "R3 = novaRegraMin(alta,regra3)\n",
    "R4 = novaRegraMin(baixa,regra4)\n",
    "R5 = novaRegraMin(baixa,regra5)\n",
    "R6 = novaRegraMin(media,regra6)\n",
    "R7 = novaRegraMin(baixa,regra7)\n",
    "R8 = novaRegraMin(media,regra8)\n",
    "R9 = novaRegraMin(baixa,regra9)\n",
    "\n",
    "RF=fuzz.fuzzy_or(gorjeta,R1,gorjeta,fuzz.fuzzy_or(gorjeta,R2,gorjeta,fuzz.fuzzy_or(gorjeta,R3,gorjeta,fuzz.fuzzy_or(gorjeta,R4,gorjeta,fuzz.fuzzy_or(gorjeta,R5,gorjeta,fuzz.fuzzy_or(gorjeta,R6,gorjeta,fuzz.fuzzy_or(gorjeta,R7,gorjeta,fuzz.fuzzy_or(gorjeta,R8,gorjeta,R9)[1])[1])[1])[1])[1])[1])[1])[1]\n",
    "defuzz_centroid = fuzz.defuzz(gorjeta, RF, 'centroid')\n",
    "defuzz_centroid"
   ]
  },
  {
   "cell_type": "code",
   "execution_count": 64,
   "metadata": {},
   "outputs": [
    {
     "data": {
      "text/plain": [
       "4.7527283160346379"
      ]
     },
     "execution_count": 64,
     "metadata": {},
     "output_type": "execute_result"
    }
   ],
   "source": [
    "def novaRegraProd(regraX, regraY):\n",
    "    v = np.zeros(regraX.size)\n",
    "    for j in range(regraX.size):\n",
    "        v[j] = regraX[j] * regraY[j]\n",
    "    return v;\n",
    "\n",
    "R1 = novaRegraProd(ruim,pessimo)\n",
    "R2 = novaRegraProd(medio,razoavel)\n",
    "R3 = novaRegraProd(bom,otimo)\n",
    "\n",
    "RF=fuzz.fuzzy_or(servico,R3,servico,fuzz.fuzzy_or(servico,R2,servico,R1)[1])[1]\n",
    "defuzz_centroid = fuzz.defuzz(servico, RF, 'centroid')\n",
    "defuzz_centroid"
   ]
  },
  {
   "cell_type": "markdown",
   "metadata": {},
   "source": [
    "OBSERVACAO: nao sei como fazer com que o resultado do Mamdani ficar no dominio de gorjeta"
   ]
  },
  {
   "cell_type": "markdown",
   "metadata": {},
   "source": [
    "Consegui!"
   ]
  },
  {
   "cell_type": "code",
   "execution_count": 85,
   "metadata": {},
   "outputs": [
    {
     "data": {
      "text/plain": [
       "26.000000000000007"
      ]
     },
     "execution_count": 85,
     "metadata": {},
     "output_type": "execute_result"
    }
   ],
   "source": [
    "#tentativa\n",
    "regra1 = min(ruim[60],pessimo[83])\n",
    "regra2 = min(medio[60],razoavel[83])\n",
    "regra3 = min(bom[60],otimo[83])\n",
    "regra4 = min(ruim[60],otimo[83])\n",
    "regra5 = min(medio[60],pessimo[83])\n",
    "regra6 = min(bom[60],razoavel[83])\n",
    "regra7 = min(ruim[60],razoavel[83])\n",
    "regra8 = min(medio[60],otimo[83])\n",
    "regra9 = min(bom[60],pessimo[83])\n",
    "\n",
    "def novaRegraProd(regraX, valor):\n",
    "    v = np.zeros(regraX.size)\n",
    "    for j in range(regraX.size):\n",
    "        v[j] = regraX[j] * valor\n",
    "    return v;\n",
    "\n",
    "R1 = novaRegraProd(baixa,regra1)\n",
    "R2 = novaRegraProd(media,regra2)\n",
    "R3 = novaRegraProd(alta,regra3)\n",
    "R4 = novaRegraProd(baixa,regra4)\n",
    "R5 = novaRegraProd(baixa,regra5)\n",
    "R6 = novaRegraProd(media,regra6)\n",
    "R7 = novaRegraProd(baixa,regra7)\n",
    "R8 = novaRegraProd(media,regra8)\n",
    "R9 = novaRegraProd(baixa,regra9)\n",
    "\n",
    "RF=fuzz.fuzzy_or(gorjeta,R1,gorjeta,fuzz.fuzzy_or(gorjeta,R2,gorjeta,fuzz.fuzzy_or(gorjeta,R3,gorjeta,fuzz.fuzzy_or(gorjeta,R4,gorjeta,fuzz.fuzzy_or(gorjeta,R5,gorjeta,fuzz.fuzzy_or(gorjeta,R6,gorjeta,fuzz.fuzzy_or(gorjeta,R7,gorjeta,fuzz.fuzzy_or(gorjeta,R8,gorjeta,R9)[1])[1])[1])[1])[1])[1])[1])[1]\n",
    "defuzz_centroid = fuzz.defuzz(gorjeta, RF, 'centroid')\n",
    "defuzz_centroid"
   ]
  },
  {
   "cell_type": "markdown",
   "metadata": {},
   "source": [
    "Questao 4"
   ]
  },
  {
   "cell_type": "markdown",
   "metadata": {},
   "source": [
    "Resposta item A: Sugeno pois são dadas as funcoes para z.\n",
    "Se as funcoes forem monotonas tsukamoto tbm pode ser bom"
   ]
  },
  {
   "cell_type": "code",
   "execution_count": 86,
   "metadata": {
    "collapsed": true
   },
   "outputs": [],
   "source": [
    "#item B\n",
    "def z1 (p,ns): return (p/100) + (ns/5)\n",
    "def z2 (p,ns): return (p/75) + (ns/2) \n",
    "def z3 (p,ns): return (p/30) + (ns/2)\n",
    "\n",
    "#dominio\n",
    "peso=np.arange(0,21,0.1)\n",
    "ns=np.arange(0,10,0.1)\n",
    "\n",
    "\n",
    "muito_leve=fuzz.trimf(peso,[0,0,7])\n",
    "leve=fuzz.trimf(peso,[5,10,16])\n",
    "pesado=fuzz.trimf(peso,[13,20,20])\n",
    "\n",
    "muito_sujo=fuzz.trimf(ns,[7,10,10])\n",
    "sujo=fuzz.trapmf(ns,[2,4,6,8])\n",
    "quase_limpo=fuzz.trimf(ns,[0,0,5])\n",
    "\n",
    "Epeso = 15\n",
    "Esuj = 6\n",
    "\n",
    "w1=min(muito_leve[(Epeso*10)-1],quase_limpo[(Esuj*10)-1])\n",
    "w2=min(leve[(Epeso*10)-1],sujo[(Esuj*10)-1])\n",
    "w3=min(pesado[(Epeso*10)-1],muito_sujo[(Esuj*10)-1])\n",
    "\n",
    "qtdDetergente = ( w1*z1(Epeso,Esuj) + w2*z2(Epeso,Esuj) + w3*z3(Epeso,Esuj) ) / (w1 + w2 + w3)"
   ]
  },
  {
   "cell_type": "code",
   "execution_count": 19,
   "metadata": {},
   "outputs": [
    {
     "data": {
      "text/plain": [
       "3.2000000000000002"
      ]
     },
     "execution_count": 19,
     "metadata": {},
     "output_type": "execute_result"
    }
   ],
   "source": [
    "qtdDetergente"
   ]
  },
  {
   "cell_type": "markdown",
   "metadata": {},
   "source": [
    "AVISO: Discutimos que essa parte questão tá modelada errada, estão muito altos os valores"
   ]
  },
  {
   "cell_type": "code",
   "execution_count": 88,
   "metadata": {
    "scrolled": true
   },
   "outputs": [
    {
     "data": {
      "text/plain": [
       "26.600000000000001"
      ]
     },
     "execution_count": 88,
     "metadata": {},
     "output_type": "execute_result"
    }
   ],
   "source": [
    "#item C - TSUKAMOTO\n",
    "Epeso = 15\n",
    "Esuj = 6\n",
    "intervalo3= np.arange(1,30.1,0.1)\n",
    "C1=fuzz.gaussmf(intervalo3,30,15)#variavelfuzzy1\n",
    "C2=fuzz.gaussmf(intervalo3,0,15)#variavelfuzzy2\n",
    "\n",
    "w1=min(muito_leve[(Epeso*10)-1],quase_limpo[(Esuj*10)-1])\n",
    "w2=min(leve[(Epeso*10)-1],sujo[(Esuj*10)-1])\n",
    "w3=min(pesado[(Epeso*10)-1],muito_sujo[(Esuj*10)-1])\n",
    "\n",
    "def posicao(conjunto,valor):\n",
    "    maisProx = 1\n",
    "    aux = 0\n",
    "    for i in range(conjunto.size):\n",
    "        if abs(valor - conjunto[i]) < maisProx :\n",
    "            maisProx = abs(valor - conjunto[i])\n",
    "            aux = i\n",
    "    return aux\n",
    "\n",
    "z1 = posicao(C2,w1)/10\n",
    "z2 = posicao(C2,w2)/10\n",
    "z3 = posicao(C1,w3)/10\n",
    "\n",
    "qtdDetergente = ( w1*z1 + w2*z2 + w3*z3 ) / (w1 + w2 + w3)\n",
    "qtdDetergente"
   ]
  },
  {
   "cell_type": "code",
   "execution_count": 54,
   "metadata": {},
   "outputs": [
    {
     "data": {
      "text/plain": [
       "[<matplotlib.lines.Line2D at 0xa4dafe8c>]"
      ]
     },
     "execution_count": 54,
     "metadata": {},
     "output_type": "execute_result"
    },
    {
     "data": {
      "image/png": "[encoded data removed]",
      "text/plain": [
       "<matplotlib.figure.Figure at 0xa4da324c>"
      ]
     },
     "metadata": {},
     "output_type": "display_data"
    }
   ],
   "source": [
    "plt.plot(intervalo3,C2)"
   ]
  },
  {
   "cell_type": "markdown",
   "metadata": {},
   "source": [
    "Questao 5"
   ]
  },
  {
   "cell_type": "code",
   "execution_count": 89,
   "metadata": {
    "collapsed": true
   },
   "outputs": [],
   "source": [
    "E_P=np.arange(0,101,0.1)\n",
    "E_I=np.arange(0,101,0.1)\n",
    "Agres=np.arange(0,5,0.1)\n",
    "\n",
    "prox_morte=fuzz.trimf(E_P,[0,0,50])\n",
    "bem=fuzz.trimf(E_P,[14,50,83])\n",
    "otimo=fuzz.trimf(E_P,[50,100,100])"
   ]
  },
  {
   "cell_type": "markdown",
   "metadata": {},
   "source": [
    "Eu prox_morte e inimigo bem ou otimo -> agressividade 0 || Eu prox_morte ou bem e inimigo otimo -> agressividade 0 || Eu bem e inimigo bem ->agressividade[1:3] || Eu otimo e inimigo otimo -> agressividade[1:3] || Eu otimo e inimigo bem ou prox_morte -> agressividade [3:4] || eu bem ou otimo e inimigo prox_morte -> agressividade [3:4]"
   ]
  },
  {
   "cell_type": "code",
   "execution_count": 90,
   "metadata": {},
   "outputs": [
    {
     "data": {
      "text/plain": [
       "2.0883322443589409"
      ]
     },
     "execution_count": 90,
     "metadata": {},
     "output_type": "execute_result"
    }
   ],
   "source": [
    "ag_baixa = fuzz.trimf(Agres, [0,0,1])\n",
    "ag_media = fuzz.trimf(Agres, [1.1,2,2.9])\n",
    "ag_alta = fuzz.trimf(Agres, [3,4,4])\n",
    "\n",
    "fracoOuBem = fuzz.fuzzy_or(E_P,prox_morte,E_P,bem)[1]\n",
    "bemOuOtimo = fuzz.fuzzy_or(E_P,bem,E_P,otimo)[1]\n",
    "\n",
    "Pers = 73\n",
    "Inim = 71\n",
    "\n",
    "regra1 = min(prox_morte[Pers*10-1],bemOuOtimo[Inim*10-1])\n",
    "regra2 = min(fracoOuBem[Pers*10-1],otimo[Inim*10-1])\n",
    "regra3 = min(bem[Pers*10-1],bem[Inim*10-1])\n",
    "regra4 = min(otimo[Pers*10-1],otimo[Inim*10-1])\n",
    "regra5 = min(otimo[Pers*10-1],fracoOuBem[Inim*10-1])\n",
    "regra6 = min(bemOuOtimo[Pers*10-1],prox_morte[Inim*10-1])\n",
    "\n",
    "def novaRegraMin(regra, inputr):\n",
    "    v = np.copy(regra)\n",
    "    for j in range(v.size):\n",
    "        if v[j]>inputr:\n",
    "            v[j]=inputr\n",
    "    return v;\n",
    "\n",
    "R1 = novaRegraMin(ag_baixa,regra1)\n",
    "R2 = novaRegraMin(ag_baixa,regra2)\n",
    "R3 = novaRegraMin(ag_media,regra3)\n",
    "R4 = novaRegraMin(ag_media,regra4)\n",
    "R5 = novaRegraMin(ag_alta,regra5)\n",
    "R6 = novaRegraMin(ag_alta,regra6)\n",
    "\n",
    "RF = fuzz.fuzzy_or(Agres,R6,Agres,fuzz.fuzzy_or(Agres,R5,Agres,fuzz.fuzzy_or(Agres,R4,Agres,fuzz.fuzzy_or(Agres,R3,Agres,fuzz.fuzzy_or(Agres,R2,Agres,R1)[1])[1])[1])[1])[1]\n",
    "defuzz_centroid = fuzz.defuzz(Agres, RF, 'centroid')\n",
    "defuzz_centroid"
   ]
  },
  {
   "cell_type": "markdown",
   "metadata": {},
   "source": [
    "Funções do Sugeno, analise os casos extremos para entender o comportamento da função"
   ]
  },
  {
   "cell_type": "code",
   "execution_count": 91,
   "metadata": {
    "collapsed": true
   },
   "outputs": [],
   "source": [
    "def zAlta (Pe,In): return 3 + (Pe-In)/100\n",
    "def zMedia (Pe,In): return 2 - (In-Pe)/100 \n",
    "def zBaixa (Pe,In): return 0.5 - (In-Pe)/200\n",
    "\n"
   ]
  },
  {
   "cell_type": "markdown",
   "metadata": {},
   "source": [
    "Eu prox_morte e inimigo bem ou otimo -> C1 || Eu prox_morte ou bem e inimigo otimo -> C1 || Eu bem e inimigo bem ->agressividade C2 || Eu otimo e inimigo otimo -> C2 || Eu prox_morte e inimigo prox_morte -> C2 || Eu otimo e inimigo bem ou prox_morte -> C3 || eu bem ou otimo e inimigo prox_morte -> C3"
   ]
  },
  {
   "cell_type": "code",
   "execution_count": 92,
   "metadata": {
    "scrolled": true
   },
   "outputs": [
    {
     "data": {
      "image/png": "[encoded data removed]",
      "text/plain": [
       "<matplotlib.figure.Figure at 0xa4da520c>"
      ]
     },
     "metadata": {},
     "output_type": "display_data"
    }
   ],
   "source": [
    "intervalo5 = np.arange(0,4.1,0.1)\n",
    "C1=fuzz.gaussmf(intervalo5,0,0.3)\n",
    "C2=fuzz.trapmf(intervalo5,[1,2,3,3])\n",
    "C3=fuzz.gaussmf(intervalo5,4,0.3)\n",
    "fig,ax = plt.subplots()\n",
    "\n",
    "ax.plot(intervalo5,C1,label = 'C1')\n",
    "ax.plot(intervalo5,C2,label = 'C2')\n",
    "ax.plot(intervalo5,C3,label = 'C3')  \n",
    "ax.grid(True)\n",
    "ax.legend(loc='upper right')\n",
    "plt.show()"
   ]
  },
  {
   "cell_type": "code",
   "execution_count": null,
   "metadata": {
    "collapsed": true
   },
   "outputs": [],
   "source": []
  }
 ],
 "metadata": {
  "kernelspec": {
   "display_name": "Python 3",
   "language": "python",
   "name": "python3"
  },
  "language_info": {
   "codemirror_mode": {
    "name": "ipython",
    "version": 3
   },
   "file_extension": ".py",
   "mimetype": "text/x-python",
   "name": "python",
   "nbconvert_exporter": "python",
   "pygments_lexer": "ipython3",
   "version": "3.6.1"
  }
 },
 "nbformat": 4,
 "nbformat_minor": 2
}
